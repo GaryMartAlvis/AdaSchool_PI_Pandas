{
 "cells": [
  {
   "cell_type": "markdown",
   "metadata": {},
   "source": [
    "# **AdaSchool - Proyecto Integrador**\n",
    "### Parte 2: Carga de datos\n",
    "###### by Gary Y. Martinez Alvis\n",
    "\n",
    "> Continuando con la anterior sección del proyecto integrador, ahora debes realizar lo siguiente:"
   ]
  },
  {
   "cell_type": "markdown",
   "metadata": {},
   "source": [
    "1. Convertir la estructura Dataset en un DataFrame de Pandas usando pd.DataFrame."
   ]
  },
  {
   "cell_type": "code",
   "execution_count": 1,
   "metadata": {},
   "outputs": [
    {
     "name": "stderr",
     "output_type": "stream",
     "text": [
      "c:\\Users\\DELL\\AppData\\Local\\Programs\\Python\\Python311\\Lib\\site-packages\\tqdm\\auto.py:21: TqdmWarning: IProgress not found. Please update jupyter and ipywidgets. See https://ipywidgets.readthedocs.io/en/stable/user_install.html\n",
      "  from .autonotebook import tqdm as notebook_tqdm\n"
     ]
    }
   ],
   "source": [
    "import pandas as pd\n",
    "import numpy as np\n",
    "from datasets import load_dataset\n",
    "\n",
    "dataset = load_dataset(\"mstz/heart_failure\")\n",
    "data = dataset[\"train\"]"
   ]
  },
  {
   "cell_type": "code",
   "execution_count": 5,
   "metadata": {},
   "outputs": [
    {
     "name": "stdout",
     "output_type": "stream",
     "text": [
      "<class 'pandas.core.frame.DataFrame'>\n",
      "RangeIndex: 299 entries, 0 to 298\n",
      "Data columns (total 13 columns):\n",
      " #   Column                                           Non-Null Count  Dtype  \n",
      "---  ------                                           --------------  -----  \n",
      " 0   age                                              299 non-null    int64  \n",
      " 1   has_anaemia                                      299 non-null    bool   \n",
      " 2   creatinine_phosphokinase_concentration_in_blood  299 non-null    float64\n",
      " 3   has_diabetes                                     299 non-null    bool   \n",
      " 4   heart_ejection_fraction                          299 non-null    float64\n",
      " 5   has_high_blood_pressure                          299 non-null    bool   \n",
      " 6   platelets_concentration_in_blood                 299 non-null    float64\n",
      " 7   serum_creatinine_concentration_in_blood          299 non-null    float64\n",
      " 8   serum_sodium_concentration_in_blood              299 non-null    float64\n",
      " 9   is_male                                          299 non-null    bool   \n",
      " 10  is_smoker                                        299 non-null    bool   \n",
      " 11  days_in_study                                    299 non-null    int64  \n",
      " 12  is_dead                                          299 non-null    int64  \n",
      "dtypes: bool(5), float64(5), int64(3)\n",
      "memory usage: 20.3 KB\n"
     ]
    }
   ],
   "source": [
    "df = pd.DataFrame(data)\n",
    "df.info()"
   ]
  },
  {
   "cell_type": "markdown",
   "metadata": {},
   "source": [
    "2. Separar el dataframe en dos diferentes, uno conteniendo las filas con personas que perecieron (is_dead=1) y otro con el complemento."
   ]
  },
  {
   "cell_type": "code",
   "execution_count": 12,
   "metadata": {},
   "outputs": [
    {
     "data": {
      "text/plain": [
       "count    96.0\n",
       "mean      1.0\n",
       "std       0.0\n",
       "min       1.0\n",
       "25%       1.0\n",
       "50%       1.0\n",
       "75%       1.0\n",
       "max       1.0\n",
       "Name: is_dead, dtype: float64"
      ]
     },
     "execution_count": 12,
     "metadata": {},
     "output_type": "execute_result"
    }
   ],
   "source": [
    "df_is_dead = df.query('is_dead == 1')\n",
    "df_is_dead['is_dead'].describe()"
   ]
  },
  {
   "cell_type": "code",
   "execution_count": 13,
   "metadata": {},
   "outputs": [
    {
     "data": {
      "text/plain": [
       "count    203.0\n",
       "mean       0.0\n",
       "std        0.0\n",
       "min        0.0\n",
       "25%        0.0\n",
       "50%        0.0\n",
       "75%        0.0\n",
       "max        0.0\n",
       "Name: is_dead, dtype: float64"
      ]
     },
     "execution_count": 13,
     "metadata": {},
     "output_type": "execute_result"
    }
   ],
   "source": [
    "df_is_not_dead = df.query('is_dead != 1')\n",
    "df_is_not_dead['is_dead'].describe()"
   ]
  },
  {
   "cell_type": "markdown",
   "metadata": {},
   "source": [
    "3. Calcular los promedios de las edades de cada dataset e imprimir."
   ]
  },
  {
   "cell_type": "code",
   "execution_count": 15,
   "metadata": {},
   "outputs": [
    {
     "name": "stdout",
     "output_type": "stream",
     "text": [
      "El promedio de edad del DataFrame df_is_dead es: 65.21 años de edad promedio.\n",
      "El promedio de edad del DataFrame df_is_not_dead es: 58.76 años de edad promedio.\n"
     ]
    }
   ],
   "source": [
    "promd_df_is_dead = df_is_dead['age'].mean()\n",
    "promd_df_is_not_dead = df_is_not_dead['age'].mean()\n",
    "print(f'El promedio de edad del DataFrame df_is_dead es: {promd_df_is_dead.round(2)} años de edad promedio.')\n",
    "print(f'El promedio de edad del DataFrame df_is_not_dead es: {promd_df_is_not_dead.round(2)} años de edad promedio.')\n"
   ]
  }
 ],
 "metadata": {
  "kernelspec": {
   "display_name": "Python 3",
   "language": "python",
   "name": "python3"
  },
  "language_info": {
   "codemirror_mode": {
    "name": "ipython",
    "version": 3
   },
   "file_extension": ".py",
   "mimetype": "text/x-python",
   "name": "python",
   "nbconvert_exporter": "python",
   "pygments_lexer": "ipython3",
   "version": "3.11.5"
  }
 },
 "nbformat": 4,
 "nbformat_minor": 2
}
