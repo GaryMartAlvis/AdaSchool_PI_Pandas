{
 "cells": [
  {
   "cell_type": "markdown",
   "metadata": {},
   "source": [
    "# **AdaSchool - Proyecto Integrador**\n",
    "### Parte 2: Carga de datos\n",
    "###### by Gary Y. Martinez Alvis\n",
    "\n",
    "> Continuando con la anterior sección del proyecto integrador, ahora debes realizar lo siguiente:"
   ]
  },
  {
   "cell_type": "markdown",
   "metadata": {},
   "source": [
    "1. Convertir la estructura Dataset en un DataFrame de Pandas usando pd.DataFrame."
   ]
  },
  {
   "cell_type": "code",
   "execution_count": 8,
   "metadata": {},
   "outputs": [],
   "source": [
    "import pandas as pd\n",
    "import numpy as np\n",
    "from datasets import load_dataset\n",
    "\n",
    "dataset = load_dataset(\"mstz/heart_failure\")\n",
    "data = dataset[\"train\"]"
   ]
  },
  {
   "cell_type": "code",
   "execution_count": 9,
   "metadata": {},
   "outputs": [
    {
     "name": "stdout",
     "output_type": "stream",
     "text": [
      "<class 'pandas.core.frame.DataFrame'>\n",
      "RangeIndex: 299 entries, 0 to 298\n",
      "Data columns (total 13 columns):\n",
      " #   Column                                           Non-Null Count  Dtype  \n",
      "---  ------                                           --------------  -----  \n",
      " 0   age                                              299 non-null    int64  \n",
      " 1   has_anaemia                                      299 non-null    bool   \n",
      " 2   creatinine_phosphokinase_concentration_in_blood  299 non-null    float64\n",
      " 3   has_diabetes                                     299 non-null    bool   \n",
      " 4   heart_ejection_fraction                          299 non-null    float64\n",
      " 5   has_high_blood_pressure                          299 non-null    bool   \n",
      " 6   platelets_concentration_in_blood                 299 non-null    float64\n",
      " 7   serum_creatinine_concentration_in_blood          299 non-null    float64\n",
      " 8   serum_sodium_concentration_in_blood              299 non-null    float64\n",
      " 9   is_male                                          299 non-null    bool   \n",
      " 10  is_smoker                                        299 non-null    bool   \n",
      " 11  days_in_study                                    299 non-null    int64  \n",
      " 12  is_dead                                          299 non-null    int64  \n",
      "dtypes: bool(5), float64(5), int64(3)\n",
      "memory usage: 20.3 KB\n"
     ]
    }
   ],
   "source": [
    "df = pd.DataFrame(data)\n",
    "df.info()"
   ]
  },
  {
   "cell_type": "markdown",
   "metadata": {},
   "source": [
    "2. Separar el dataframe en dos diferentes, uno conteniendo las filas con personas que perecieron (is_dead=1) y otro con el complemento."
   ]
  },
  {
   "cell_type": "code",
   "execution_count": 10,
   "metadata": {},
   "outputs": [
    {
     "data": {
      "text/plain": [
       "count    96.0\n",
       "mean      1.0\n",
       "std       0.0\n",
       "min       1.0\n",
       "25%       1.0\n",
       "50%       1.0\n",
       "75%       1.0\n",
       "max       1.0\n",
       "Name: is_dead, dtype: float64"
      ]
     },
     "execution_count": 10,
     "metadata": {},
     "output_type": "execute_result"
    }
   ],
   "source": [
    "df_is_dead = df.query('is_dead == 1')\n",
    "df_is_dead['is_dead'].describe()"
   ]
  },
  {
   "cell_type": "code",
   "execution_count": 11,
   "metadata": {},
   "outputs": [
    {
     "data": {
      "text/plain": [
       "count    203.0\n",
       "mean       0.0\n",
       "std        0.0\n",
       "min        0.0\n",
       "25%        0.0\n",
       "50%        0.0\n",
       "75%        0.0\n",
       "max        0.0\n",
       "Name: is_dead, dtype: float64"
      ]
     },
     "execution_count": 11,
     "metadata": {},
     "output_type": "execute_result"
    }
   ],
   "source": [
    "df_is_not_dead = df.query('is_dead != 1')\n",
    "df_is_not_dead['is_dead'].describe()"
   ]
  },
  {
   "cell_type": "markdown",
   "metadata": {},
   "source": [
    "3. Calcular los promedios de las edades de cada dataset e imprimir."
   ]
  },
  {
   "cell_type": "code",
   "execution_count": 12,
   "metadata": {},
   "outputs": [
    {
     "name": "stdout",
     "output_type": "stream",
     "text": [
      "El promedio de edad del DataFrame df_is_dead es: 65.21 años de edad promedio.\n",
      "El promedio de edad del DataFrame df_is_not_dead es: 58.76 años de edad promedio.\n"
     ]
    }
   ],
   "source": [
    "promd_df_is_dead = df_is_dead['age'].mean()\n",
    "promd_df_is_not_dead = df_is_not_dead['age'].mean()\n",
    "print(f'El promedio de edad del DataFrame df_is_dead es: {promd_df_is_dead.round(2)} años de edad promedio.')\n",
    "print(f'El promedio de edad del DataFrame df_is_not_dead es: {promd_df_is_not_dead.round(2)} años de edad promedio.')\n"
   ]
  },
  {
   "cell_type": "markdown",
   "metadata": {},
   "source": [
    "---\n",
    "---"
   ]
  },
  {
   "cell_type": "markdown",
   "metadata": {},
   "source": [
    "### Parte 3: Calculando analiticas simples\n",
    "\n",
    "> Continuando con el DataFrame con todos los datos de la anterior subsección, ahora debes:"
   ]
  },
  {
   "cell_type": "markdown",
   "metadata": {},
   "source": [
    "1. Verificar que los tipos de datos son correctos en cada colúmna (por ejemplo que no existan colúmnas numéricas en formato de cadena)."
   ]
  },
  {
   "cell_type": "code",
   "execution_count": 13,
   "metadata": {},
   "outputs": [
    {
     "name": "stdout",
     "output_type": "stream",
     "text": [
      "<class 'pandas.core.frame.DataFrame'>\n",
      "RangeIndex: 299 entries, 0 to 298\n",
      "Data columns (total 13 columns):\n",
      " #   Column                                           Non-Null Count  Dtype  \n",
      "---  ------                                           --------------  -----  \n",
      " 0   age                                              299 non-null    int64  \n",
      " 1   has_anaemia                                      299 non-null    bool   \n",
      " 2   creatinine_phosphokinase_concentration_in_blood  299 non-null    float64\n",
      " 3   has_diabetes                                     299 non-null    bool   \n",
      " 4   heart_ejection_fraction                          299 non-null    float64\n",
      " 5   has_high_blood_pressure                          299 non-null    bool   \n",
      " 6   platelets_concentration_in_blood                 299 non-null    float64\n",
      " 7   serum_creatinine_concentration_in_blood          299 non-null    float64\n",
      " 8   serum_sodium_concentration_in_blood              299 non-null    float64\n",
      " 9   is_male                                          299 non-null    bool   \n",
      " 10  is_smoker                                        299 non-null    bool   \n",
      " 11  days_in_study                                    299 non-null    int64  \n",
      " 12  is_dead                                          299 non-null    int64  \n",
      "dtypes: bool(5), float64(5), int64(3)\n",
      "memory usage: 20.3 KB\n"
     ]
    }
   ],
   "source": [
    "df.info()"
   ]
  },
  {
   "cell_type": "code",
   "execution_count": 14,
   "metadata": {},
   "outputs": [
    {
     "data": {
      "text/html": [
       "<div>\n",
       "<style scoped>\n",
       "    .dataframe tbody tr th:only-of-type {\n",
       "        vertical-align: middle;\n",
       "    }\n",
       "\n",
       "    .dataframe tbody tr th {\n",
       "        vertical-align: top;\n",
       "    }\n",
       "\n",
       "    .dataframe thead th {\n",
       "        text-align: right;\n",
       "    }\n",
       "</style>\n",
       "<table border=\"1\" class=\"dataframe\">\n",
       "  <thead>\n",
       "    <tr style=\"text-align: right;\">\n",
       "      <th></th>\n",
       "      <th>age</th>\n",
       "      <th>has_anaemia</th>\n",
       "      <th>creatinine_phosphokinase_concentration_in_blood</th>\n",
       "      <th>has_diabetes</th>\n",
       "      <th>heart_ejection_fraction</th>\n",
       "      <th>has_high_blood_pressure</th>\n",
       "      <th>platelets_concentration_in_blood</th>\n",
       "      <th>serum_creatinine_concentration_in_blood</th>\n",
       "      <th>serum_sodium_concentration_in_blood</th>\n",
       "      <th>is_male</th>\n",
       "      <th>is_smoker</th>\n",
       "      <th>days_in_study</th>\n",
       "      <th>is_dead</th>\n",
       "    </tr>\n",
       "  </thead>\n",
       "  <tbody>\n",
       "    <tr>\n",
       "      <th>0</th>\n",
       "      <td>75</td>\n",
       "      <td>False</td>\n",
       "      <td>582.0</td>\n",
       "      <td>False</td>\n",
       "      <td>20.0</td>\n",
       "      <td>True</td>\n",
       "      <td>265000.00</td>\n",
       "      <td>1.9</td>\n",
       "      <td>130.0</td>\n",
       "      <td>True</td>\n",
       "      <td>False</td>\n",
       "      <td>4</td>\n",
       "      <td>1</td>\n",
       "    </tr>\n",
       "    <tr>\n",
       "      <th>1</th>\n",
       "      <td>55</td>\n",
       "      <td>False</td>\n",
       "      <td>7861.0</td>\n",
       "      <td>False</td>\n",
       "      <td>38.0</td>\n",
       "      <td>False</td>\n",
       "      <td>263358.03</td>\n",
       "      <td>1.1</td>\n",
       "      <td>136.0</td>\n",
       "      <td>True</td>\n",
       "      <td>False</td>\n",
       "      <td>6</td>\n",
       "      <td>1</td>\n",
       "    </tr>\n",
       "    <tr>\n",
       "      <th>2</th>\n",
       "      <td>65</td>\n",
       "      <td>False</td>\n",
       "      <td>146.0</td>\n",
       "      <td>False</td>\n",
       "      <td>20.0</td>\n",
       "      <td>False</td>\n",
       "      <td>162000.00</td>\n",
       "      <td>1.3</td>\n",
       "      <td>129.0</td>\n",
       "      <td>True</td>\n",
       "      <td>True</td>\n",
       "      <td>7</td>\n",
       "      <td>1</td>\n",
       "    </tr>\n",
       "    <tr>\n",
       "      <th>3</th>\n",
       "      <td>50</td>\n",
       "      <td>True</td>\n",
       "      <td>111.0</td>\n",
       "      <td>False</td>\n",
       "      <td>20.0</td>\n",
       "      <td>False</td>\n",
       "      <td>210000.00</td>\n",
       "      <td>1.9</td>\n",
       "      <td>137.0</td>\n",
       "      <td>True</td>\n",
       "      <td>False</td>\n",
       "      <td>7</td>\n",
       "      <td>1</td>\n",
       "    </tr>\n",
       "    <tr>\n",
       "      <th>4</th>\n",
       "      <td>65</td>\n",
       "      <td>True</td>\n",
       "      <td>160.0</td>\n",
       "      <td>True</td>\n",
       "      <td>20.0</td>\n",
       "      <td>False</td>\n",
       "      <td>327000.00</td>\n",
       "      <td>2.7</td>\n",
       "      <td>116.0</td>\n",
       "      <td>False</td>\n",
       "      <td>False</td>\n",
       "      <td>8</td>\n",
       "      <td>1</td>\n",
       "    </tr>\n",
       "    <tr>\n",
       "      <th>5</th>\n",
       "      <td>90</td>\n",
       "      <td>True</td>\n",
       "      <td>47.0</td>\n",
       "      <td>False</td>\n",
       "      <td>40.0</td>\n",
       "      <td>True</td>\n",
       "      <td>204000.00</td>\n",
       "      <td>2.1</td>\n",
       "      <td>132.0</td>\n",
       "      <td>True</td>\n",
       "      <td>True</td>\n",
       "      <td>8</td>\n",
       "      <td>1</td>\n",
       "    </tr>\n",
       "    <tr>\n",
       "      <th>6</th>\n",
       "      <td>75</td>\n",
       "      <td>True</td>\n",
       "      <td>246.0</td>\n",
       "      <td>False</td>\n",
       "      <td>15.0</td>\n",
       "      <td>False</td>\n",
       "      <td>127000.00</td>\n",
       "      <td>1.2</td>\n",
       "      <td>137.0</td>\n",
       "      <td>True</td>\n",
       "      <td>False</td>\n",
       "      <td>10</td>\n",
       "      <td>1</td>\n",
       "    </tr>\n",
       "    <tr>\n",
       "      <th>7</th>\n",
       "      <td>60</td>\n",
       "      <td>True</td>\n",
       "      <td>315.0</td>\n",
       "      <td>True</td>\n",
       "      <td>60.0</td>\n",
       "      <td>False</td>\n",
       "      <td>454000.00</td>\n",
       "      <td>1.1</td>\n",
       "      <td>131.0</td>\n",
       "      <td>True</td>\n",
       "      <td>True</td>\n",
       "      <td>10</td>\n",
       "      <td>1</td>\n",
       "    </tr>\n",
       "    <tr>\n",
       "      <th>8</th>\n",
       "      <td>65</td>\n",
       "      <td>False</td>\n",
       "      <td>157.0</td>\n",
       "      <td>False</td>\n",
       "      <td>65.0</td>\n",
       "      <td>False</td>\n",
       "      <td>263358.03</td>\n",
       "      <td>1.5</td>\n",
       "      <td>138.0</td>\n",
       "      <td>False</td>\n",
       "      <td>False</td>\n",
       "      <td>10</td>\n",
       "      <td>1</td>\n",
       "    </tr>\n",
       "    <tr>\n",
       "      <th>9</th>\n",
       "      <td>80</td>\n",
       "      <td>True</td>\n",
       "      <td>123.0</td>\n",
       "      <td>False</td>\n",
       "      <td>35.0</td>\n",
       "      <td>True</td>\n",
       "      <td>388000.00</td>\n",
       "      <td>9.4</td>\n",
       "      <td>133.0</td>\n",
       "      <td>True</td>\n",
       "      <td>True</td>\n",
       "      <td>10</td>\n",
       "      <td>1</td>\n",
       "    </tr>\n",
       "  </tbody>\n",
       "</table>\n",
       "</div>"
      ],
      "text/plain": [
       "   age  has_anaemia  creatinine_phosphokinase_concentration_in_blood  \\\n",
       "0   75        False                                            582.0   \n",
       "1   55        False                                           7861.0   \n",
       "2   65        False                                            146.0   \n",
       "3   50         True                                            111.0   \n",
       "4   65         True                                            160.0   \n",
       "5   90         True                                             47.0   \n",
       "6   75         True                                            246.0   \n",
       "7   60         True                                            315.0   \n",
       "8   65        False                                            157.0   \n",
       "9   80         True                                            123.0   \n",
       "\n",
       "   has_diabetes  heart_ejection_fraction  has_high_blood_pressure  \\\n",
       "0         False                     20.0                     True   \n",
       "1         False                     38.0                    False   \n",
       "2         False                     20.0                    False   \n",
       "3         False                     20.0                    False   \n",
       "4          True                     20.0                    False   \n",
       "5         False                     40.0                     True   \n",
       "6         False                     15.0                    False   \n",
       "7          True                     60.0                    False   \n",
       "8         False                     65.0                    False   \n",
       "9         False                     35.0                     True   \n",
       "\n",
       "   platelets_concentration_in_blood  serum_creatinine_concentration_in_blood  \\\n",
       "0                         265000.00                                      1.9   \n",
       "1                         263358.03                                      1.1   \n",
       "2                         162000.00                                      1.3   \n",
       "3                         210000.00                                      1.9   \n",
       "4                         327000.00                                      2.7   \n",
       "5                         204000.00                                      2.1   \n",
       "6                         127000.00                                      1.2   \n",
       "7                         454000.00                                      1.1   \n",
       "8                         263358.03                                      1.5   \n",
       "9                         388000.00                                      9.4   \n",
       "\n",
       "   serum_sodium_concentration_in_blood  is_male  is_smoker  days_in_study  \\\n",
       "0                                130.0     True      False              4   \n",
       "1                                136.0     True      False              6   \n",
       "2                                129.0     True       True              7   \n",
       "3                                137.0     True      False              7   \n",
       "4                                116.0    False      False              8   \n",
       "5                                132.0     True       True              8   \n",
       "6                                137.0     True      False             10   \n",
       "7                                131.0     True       True             10   \n",
       "8                                138.0    False      False             10   \n",
       "9                                133.0     True       True             10   \n",
       "\n",
       "   is_dead  \n",
       "0        1  \n",
       "1        1  \n",
       "2        1  \n",
       "3        1  \n",
       "4        1  \n",
       "5        1  \n",
       "6        1  \n",
       "7        1  \n",
       "8        1  \n",
       "9        1  "
      ]
     },
     "execution_count": 14,
     "metadata": {},
     "output_type": "execute_result"
    }
   ],
   "source": [
    "df.head(10)"
   ]
  },
  {
   "cell_type": "markdown",
   "metadata": {},
   "source": [
    "2. Calcular la cantidad de hombres fumadores vs mujeres fumadoras (usando agregaciones en Pandas)."
   ]
  },
  {
   "cell_type": "code",
   "execution_count": 24,
   "metadata": {},
   "outputs": [
    {
     "data": {
      "text/html": [
       "<div>\n",
       "<style scoped>\n",
       "    .dataframe tbody tr th:only-of-type {\n",
       "        vertical-align: middle;\n",
       "    }\n",
       "\n",
       "    .dataframe tbody tr th {\n",
       "        vertical-align: top;\n",
       "    }\n",
       "\n",
       "    .dataframe thead th {\n",
       "        text-align: right;\n",
       "    }\n",
       "</style>\n",
       "<table border=\"1\" class=\"dataframe\">\n",
       "  <thead>\n",
       "    <tr style=\"text-align: right;\">\n",
       "      <th></th>\n",
       "      <th>Genero</th>\n",
       "      <th>Cantidad</th>\n",
       "    </tr>\n",
       "  </thead>\n",
       "  <tbody>\n",
       "    <tr>\n",
       "      <th>0</th>\n",
       "      <td>Mujeres</td>\n",
       "      <td>105</td>\n",
       "    </tr>\n",
       "    <tr>\n",
       "      <th>1</th>\n",
       "      <td>Hombres</td>\n",
       "      <td>194</td>\n",
       "    </tr>\n",
       "  </tbody>\n",
       "</table>\n",
       "</div>"
      ],
      "text/plain": [
       "    Genero  Cantidad\n",
       "0  Mujeres       105\n",
       "1  Hombres       194"
      ]
     },
     "execution_count": 24,
     "metadata": {},
     "output_type": "execute_result"
    }
   ],
   "source": [
    "gender = df.groupby('is_male')['is_male'].size().reset_index(name='Cantidad')\n",
    "gender['Genero'] = gender['is_male'].map({False: 'Mujeres', True: 'Hombres'})\n",
    "gender = gender[['Genero', 'Cantidad']]\n",
    "gender"
   ]
  }
 ],
 "metadata": {
  "kernelspec": {
   "display_name": "Python 3",
   "language": "python",
   "name": "python3"
  },
  "language_info": {
   "codemirror_mode": {
    "name": "ipython",
    "version": 3
   },
   "file_extension": ".py",
   "mimetype": "text/x-python",
   "name": "python",
   "nbconvert_exporter": "python",
   "pygments_lexer": "ipython3",
   "version": "3.11.5"
  }
 },
 "nbformat": 4,
 "nbformat_minor": 2
}
